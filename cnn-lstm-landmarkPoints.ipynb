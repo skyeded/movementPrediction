{
 "cells": [
  {
   "cell_type": "code",
   "execution_count": 1,
   "metadata": {},
   "outputs": [],
   "source": [
    "import numpy as np\n",
    "import pandas as pd\n",
    "import matplotlib.pyplot as plt\n",
    "import os as os"
   ]
  },
  {
   "cell_type": "markdown",
   "metadata": {},
   "source": [
    "### Imputation"
   ]
  },
  {
   "cell_type": "code",
   "execution_count": 2,
   "metadata": {},
   "outputs": [],
   "source": [
    "### Data Imputation ###\n",
    "from sklearn.impute import KNNImputer\n",
    "from sklearn.preprocessing import normalize\n",
    "from sklearn.preprocessing import MinMaxScaler\n",
    "\n",
    "scaler_x_y = MinMaxScaler()\n",
    "scaler_z = MinMaxScaler(feature_range=(-0.5, 0.5))\n",
    "# Define K-Nearest Neighbors imputations\n",
    "knn = KNNImputer(n_neighbors=5)\n",
    "\n",
    "x_y_columns = []\n",
    "z_columns = []\n",
    "\n",
    "x_count = 0\n",
    "y_count = 1\n",
    "z_count = 2\n",
    "\n",
    "for i in range(0, 99, 1):\n",
    "    if i == x_count:\n",
    "        x_y_columns.append(i)\n",
    "        x_count += 3\n",
    "    elif i == y_count:\n",
    "        x_y_columns.append(i)\n",
    "        y_count += 3\n",
    "    else:\n",
    "        z_columns.append(i)\n",
    "\n",
    "def imputation(data):\n",
    "    df = pd.read_csv(data, header=None, sep=' ')\n",
    "    # Find total count of zeros in the DataFrame\n",
    "    total_zeros = ( df.eq(0.0) ).sum().sum()\n",
    "\n",
    "    # Calculate missing percentages\n",
    "    missing_val = total_zeros/df.count().sum()\n",
    "    print(f'Total number of Zeros: {total_zeros} \\nMissing -> {missing_val*100:0,.2f}%')\n",
    "\n",
    "    # Change 0.0 to NaN value the KNN can detect NaN to imputate and replace the missing data\n",
    "    missing_df = df.replace(to_replace=0.0, value=np.nan)\n",
    "    imputed_df = pd.DataFrame(knn.fit_transform(missing_df))\n",
    "\n",
    "    scaled_data_x_y = scaler_x_y.fit_transform(imputed_df[x_y_columns])\n",
    "    scaled_data_z = scaler_z.fit_transform(imputed_df[z_columns])\n",
    "    \n",
    "    imputed_df[x_y_columns] = scaled_data_x_y\n",
    "    imputed_df[z_columns] = scaled_data_z\n",
    "\n",
    "    print(imputed_df)\n",
    "    print(f'Imputation is successful')\n",
    "\n",
    "    return df, imputed_df"
   ]
  },
  {
   "cell_type": "code",
   "execution_count": 3,
   "metadata": {},
   "outputs": [
    {
     "name": "stdout",
     "output_type": "stream",
     "text": [
      "Total number of Zeros: 405 \n",
      "Missing -> 5.38%\n",
      "          0         1         2         3         4         5         6   \\\n",
      "0   0.519231  0.008097  0.357321  0.604651  0.025751  0.304460  0.627119   \n",
      "1   0.647436  0.000000  0.319992  0.759690  0.000000  0.286937  0.796610   \n",
      "2   0.685897  0.048583  0.301742  0.813953  0.012876  0.269415  0.855932   \n",
      "3   0.820513  0.186235  0.300083  0.914729  0.085837  0.269016  0.974576   \n",
      "4   0.769231  0.161943  0.282663  0.914729  0.158798  0.268220  0.915254   \n",
      "..       ...       ...       ...       ...       ...       ...       ...   \n",
      "71  0.564103  0.963563 -0.500000  0.682171  0.965665 -0.500000  0.711864   \n",
      "72  0.564103  0.947368 -0.499585  0.682171  0.965665 -0.500000  0.711864   \n",
      "73  1.000000  0.295547  0.498341  1.000000  0.596567  0.500000  0.974576   \n",
      "74  0.801282  0.133603  0.384032  0.968992  0.141631  0.417961  0.949153   \n",
      "75  0.852564  0.137652  0.500000  0.930233  0.351931  0.480088  0.906780   \n",
      "\n",
      "          7         8         9   ...        89        90        91        92  \\\n",
      "0   0.025105  0.304460  0.833613  ...  0.500000  0.552632  0.000000  0.496857   \n",
      "1   0.000000  0.286937  0.739496  ...  0.498142  0.644737  0.032407  0.498952   \n",
      "2   0.037657  0.286539  0.821849  ...  0.417325  0.723684  0.000000  0.496857   \n",
      "3   0.087866  0.269016  0.915966  ...  0.362517  0.881579  0.039352  0.453903   \n",
      "4   0.158996  0.268220  0.915966  ...  0.330005  0.907895  0.032407  0.498952   \n",
      "..       ...       ...       ...  ...       ...       ...       ...       ...   \n",
      "71  0.962343 -0.500000  0.714286  ... -0.471575  0.644737  0.918981 -0.498952   \n",
      "72  0.962343 -0.500000  0.714286  ... -0.471575  0.592105  0.912037 -0.500000   \n",
      "73  0.619247  0.500000  0.823529  ...  0.142917  0.410526  0.289815  0.144840   \n",
      "74  0.175732  0.417563  0.815126  ... -0.373665  0.131579  0.731481 -0.409377   \n",
      "75  0.380753  0.479689  0.756303  ... -0.327218  0.000000  0.685185 -0.359089   \n",
      "\n",
      "          93        94        95        96        97        98  \n",
      "0   0.558824  0.000000  0.500000  0.885714  0.000000  0.500000  \n",
      "1   0.705882  0.069401  0.432361  0.785714  0.000000  0.500000  \n",
      "2   0.843137  0.160883  0.348806  0.871429  0.004396  0.477716  \n",
      "3   0.901961  0.141956  0.347480  0.885714  0.123077  0.379666  \n",
      "4   1.000000  0.034700  0.430371  1.000000  0.087912  0.418663  \n",
      "..       ...       ...       ...       ...       ...       ...  \n",
      "71  0.550980  0.920505 -0.451857  0.602857  0.974066 -0.491755  \n",
      "72  0.550980  0.920505 -0.451857  0.602857  0.974066 -0.491755  \n",
      "73  0.484314  0.418297  0.073077  0.685714  0.183736  0.285738  \n",
      "74  0.313725  0.981073 -0.494032  0.685714  0.183736  0.285738  \n",
      "75  0.000000  0.880126 -0.421751  0.000000  0.791209 -0.428691  \n",
      "\n",
      "[76 rows x 99 columns]\n",
      "Imputation is successful\n"
     ]
    }
   ],
   "source": [
    "# Sample imputation\n",
    "data, imputed_data = imputation('Data/Normal/mai_normal_ske.txt')"
   ]
  },
  {
   "cell_type": "code",
   "execution_count": 4,
   "metadata": {},
   "outputs": [],
   "source": [
    "# Define data directory\n",
    "dataDir = 'Data/'\n",
    "\n",
    "# Create a loop to list all the labels (Normal and Round in this case) \n",
    "# and map it into integer for one hot \n",
    "name_labels = []\n",
    "def list_labels(dataDir):\n",
    "    labels = []\n",
    "    for label in os.listdir(dataDir):\n",
    "        coord_dir = os.path.join(dataDir, label)\n",
    "        video_count = 1\n",
    "        for coord in enumerate(os.listdir(coord_dir)):\n",
    "            labels.append(label)\n",
    "            name = f'{label}_{video_count}'\n",
    "            name_labels.append(name)\n",
    "            while name in name_labels:\n",
    "                if name not in name_labels:\n",
    "                    name_labels.append(name)\n",
    "                    break\n",
    "                video_count+=1\n",
    "                name = f'{label}_{video_count}'\n",
    "\n",
    "\n",
    "    num_labels = np.unique(labels)\n",
    "    map_labels = {label_name:num for num,label_name in enumerate(num_labels)}\n",
    "    return map_labels"
   ]
  },
  {
   "cell_type": "code",
   "execution_count": 5,
   "metadata": {},
   "outputs": [],
   "source": [
    "map_labels = list_labels(dataDir=dataDir)"
   ]
  },
  {
   "cell_type": "code",
   "execution_count": 6,
   "metadata": {},
   "outputs": [
    {
     "name": "stdout",
     "output_type": "stream",
     "text": [
      "Total number of Zeros: 815 \n",
      "Missing -> 10.55%\n",
      "        0         1         2         3         4         5         6   \\\n",
      "0   0.1875  0.108374  0.499540  0.170732  0.043956  0.500000  0.164706   \n",
      "1   0.1000  0.068966  0.500000  0.000000  0.043956  0.500000  0.082353   \n",
      "2   0.1000  0.068966  0.500000  0.012195  0.000000  0.478982  0.082353   \n",
      "3   0.1000  0.108374  0.499540  0.000000  0.093407  0.499533  0.082353   \n",
      "4   0.0000  0.108374  0.499540  0.012195  0.049451  0.478048  0.082353   \n",
      "..     ...       ...       ...       ...       ...       ...       ...   \n",
      "73  0.4875  0.625616 -0.493566  0.373171  0.854945 -0.384073  0.348235   \n",
      "74  0.4875  0.591133 -0.492188  0.373171  0.854945 -0.384073  0.348235   \n",
      "75  0.4875  0.591133 -0.492188  0.373171  0.854945 -0.384073  0.348235   \n",
      "76  0.4875  0.610837 -0.493107  0.363415  0.834066 -0.407426  0.343529   \n",
      "77  0.4875  0.645320 -0.494026  0.363415  0.834066 -0.407426  0.343529   \n",
      "\n",
      "          7         8         9   ...        89        90        91        92  \\\n",
      "0   0.040698  0.500000  0.108434  ...  0.460452  0.000000  0.024229  0.456179   \n",
      "1   0.040698  0.500000  0.000000  ...  0.500000  0.205607  0.041850  0.457493   \n",
      "2   0.040698  0.500000  0.024096  ...  0.480226  0.385047  0.000000  0.500000   \n",
      "3   0.093023  0.499531  0.012048  ...  0.480630  0.385047  0.057269  0.458370   \n",
      "4   0.046512  0.477945  0.024096  ...  0.405569  0.532710  0.094714  0.438650   \n",
      "..       ...       ...       ...  ...       ...       ...       ...       ...   \n",
      "73  0.900000 -0.387471  0.325301  ... -0.493947  0.534579  0.893833 -0.441280   \n",
      "74  0.900000 -0.387471  0.325301  ... -0.493947  0.534579  0.893833 -0.441280   \n",
      "75  0.900000 -0.387471  0.325301  ... -0.493947  0.534579  0.893833 -0.441280   \n",
      "76  0.880233 -0.409620  0.320482  ... -0.498789  0.581308  0.936123 -0.465381   \n",
      "77  0.880233 -0.409620  0.320482  ... -0.500000  0.581308  0.936123 -0.465381   \n",
      "\n",
      "          93        94        95        96        97        98  \n",
      "0   0.000000  0.236581  0.363592  0.200000  0.004283  0.476813  \n",
      "1   0.314130  0.141153  0.417566  0.311111  0.104925  0.419586  \n",
      "2   0.315217  0.192843  0.381747  0.548148  0.014989  0.500000  \n",
      "3   0.429348  0.000000  0.500000  0.703704  0.000000  0.499013  \n",
      "4   0.402174  0.095427  0.461237  0.703704  0.034261  0.478786  \n",
      "..       ...       ...       ...       ...       ...       ...  \n",
      "73  0.920652  0.902982 -0.465947  0.155556  0.970021 -0.474346  \n",
      "74  0.853261  0.844930 -0.442100  0.125926  0.982869 -0.479280  \n",
      "75  0.920652  0.902982 -0.465947  0.081481  0.993576 -0.483720  \n",
      "76  0.832609  0.893837 -0.455839  0.029630  0.987152 -0.478786  \n",
      "77  0.836957  0.896223 -0.456820  0.000000  0.987152 -0.478786  \n",
      "\n",
      "[78 rows x 99 columns]\n",
      "Imputation is successful\n",
      "Total number of Zeros: 405 \n",
      "Missing -> 5.38%\n",
      "          0         1         2         3         4         5         6   \\\n",
      "0   0.519231  0.008097  0.357321  0.604651  0.025751  0.304460  0.627119   \n",
      "1   0.647436  0.000000  0.319992  0.759690  0.000000  0.286937  0.796610   \n",
      "2   0.685897  0.048583  0.301742  0.813953  0.012876  0.269415  0.855932   \n",
      "3   0.820513  0.186235  0.300083  0.914729  0.085837  0.269016  0.974576   \n",
      "4   0.769231  0.161943  0.282663  0.914729  0.158798  0.268220  0.915254   \n",
      "..       ...       ...       ...       ...       ...       ...       ...   \n",
      "71  0.564103  0.963563 -0.500000  0.682171  0.965665 -0.500000  0.711864   \n",
      "72  0.564103  0.947368 -0.499585  0.682171  0.965665 -0.500000  0.711864   \n",
      "73  1.000000  0.295547  0.498341  1.000000  0.596567  0.500000  0.974576   \n",
      "74  0.801282  0.133603  0.384032  0.968992  0.141631  0.417961  0.949153   \n",
      "75  0.852564  0.137652  0.500000  0.930233  0.351931  0.480088  0.906780   \n",
      "\n",
      "          7         8         9   ...        89        90        91        92  \\\n",
      "0   0.025105  0.304460  0.833613  ...  0.500000  0.552632  0.000000  0.496857   \n",
      "1   0.000000  0.286937  0.739496  ...  0.498142  0.644737  0.032407  0.498952   \n",
      "2   0.037657  0.286539  0.821849  ...  0.417325  0.723684  0.000000  0.496857   \n",
      "3   0.087866  0.269016  0.915966  ...  0.362517  0.881579  0.039352  0.453903   \n",
      "4   0.158996  0.268220  0.915966  ...  0.330005  0.907895  0.032407  0.498952   \n",
      "..       ...       ...       ...  ...       ...       ...       ...       ...   \n",
      "71  0.962343 -0.500000  0.714286  ... -0.471575  0.644737  0.918981 -0.498952   \n",
      "72  0.962343 -0.500000  0.714286  ... -0.471575  0.592105  0.912037 -0.500000   \n",
      "73  0.619247  0.500000  0.823529  ...  0.142917  0.410526  0.289815  0.144840   \n",
      "74  0.175732  0.417563  0.815126  ... -0.373665  0.131579  0.731481 -0.409377   \n",
      "75  0.380753  0.479689  0.756303  ... -0.327218  0.000000  0.685185 -0.359089   \n",
      "\n",
      "          93        94        95        96        97        98  \n",
      "0   0.558824  0.000000  0.500000  0.885714  0.000000  0.500000  \n",
      "1   0.705882  0.069401  0.432361  0.785714  0.000000  0.500000  \n",
      "2   0.843137  0.160883  0.348806  0.871429  0.004396  0.477716  \n",
      "3   0.901961  0.141956  0.347480  0.885714  0.123077  0.379666  \n",
      "4   1.000000  0.034700  0.430371  1.000000  0.087912  0.418663  \n",
      "..       ...       ...       ...       ...       ...       ...  \n",
      "71  0.550980  0.920505 -0.451857  0.602857  0.974066 -0.491755  \n",
      "72  0.550980  0.920505 -0.451857  0.602857  0.974066 -0.491755  \n",
      "73  0.484314  0.418297  0.073077  0.685714  0.183736  0.285738  \n",
      "74  0.313725  0.981073 -0.494032  0.685714  0.183736  0.285738  \n",
      "75  0.000000  0.880126 -0.421751  0.000000  0.791209 -0.428691  \n",
      "\n",
      "[76 rows x 99 columns]\n",
      "Imputation is successful\n",
      "Total number of Zeros: 1182 \n",
      "Missing -> 11.59%\n",
      "           0         1         2         3         4         5         6   \\\n",
      "0    0.113636  0.096491  0.459459  0.000000  0.000000  0.457649  0.000000   \n",
      "1    0.000000  0.340351  0.461149  0.045455  0.310132  0.461106  0.080460   \n",
      "2    0.106061  0.533333  0.500000  0.038961  0.393833  0.481417  0.114943   \n",
      "3    0.325758  0.251754  0.461149  0.240260  0.164758  0.440795  0.212644   \n",
      "4    0.325758  0.364912  0.461149  0.285714  0.343612  0.461106  0.241379   \n",
      "..        ...       ...       ...       ...       ...       ...       ...   \n",
      "98   0.501515  0.986316 -0.477703  0.453247  0.993480 -0.450389  0.525287   \n",
      "99   0.501515  0.986316 -0.477703  0.453247  0.993480 -0.450389  0.525287   \n",
      "100  0.501515  0.986316 -0.477703  0.453247  0.993480 -0.450389  0.525287   \n",
      "101  0.219697  0.072807  0.459037  0.045455  0.041410  0.458946  0.080460   \n",
      "102  0.219697  0.000000  0.456926  0.097403  0.024670  0.458513  0.080460   \n",
      "\n",
      "           7         8         9   ...        89        90        91  \\\n",
      "0    0.000000  0.457235  0.000000  ...  0.500000  0.500000  0.099631   \n",
      "1    0.303730  0.460259  0.026596  ... -0.014961  0.448276  0.339483   \n",
      "2    0.396092  0.480562  0.143617  ... -0.153491  0.482759  0.398524   \n",
      "3    0.157194  0.439957  0.191489  ...  0.069043  0.456897  0.284133   \n",
      "4    0.354352  0.480994  0.260638  ...  0.040081  0.448276  0.289668   \n",
      "..        ...       ...       ...  ...       ...       ...       ...   \n",
      "98   0.990409 -0.451274  0.610638  ... -0.498005  0.612069  0.948339   \n",
      "99   0.990409 -0.451274  0.610638  ... -0.498005  0.612069  0.942804   \n",
      "100  0.990409 -0.451274  0.610638  ... -0.498005  0.612069  0.942804   \n",
      "101  0.040853  0.458531  0.069149  ...  0.079904  0.129310  0.031365   \n",
      "102  0.015986  0.457667  0.037234  ...  0.027891  0.456897  0.256458   \n",
      "\n",
      "           92        93        94        95        96        97        98  \n",
      "0    0.500000  0.000000  0.207243  0.301126  0.834951  0.331034  0.156344  \n",
      "1   -0.007774  0.342975  0.674044 -0.231238  0.514563  0.717241 -0.286713  \n",
      "2   -0.079378  0.433884  0.754527 -0.323640  0.524272  0.779310 -0.335165  \n",
      "3    0.073650  0.297521  0.581489 -0.130863  0.621359  0.622989 -0.184316  \n",
      "4    0.048282  0.309917  0.593561 -0.151032  0.514563  0.636782 -0.204296  \n",
      "..        ...       ...       ...       ...       ...       ...       ...  \n",
      "98  -0.496727  0.657851  0.901006 -0.459475  0.145631  0.872644 -0.390310  \n",
      "99  -0.492635  0.657851  0.901006 -0.459475  0.145631  0.872644 -0.390310  \n",
      "100 -0.492635  0.657851  0.901006 -0.459475  0.145631  0.872644 -0.390310  \n",
      "101  0.391571  0.057851  0.398390  0.101313  0.669903  0.464368 -0.014486  \n",
      "102  0.111702  0.285124  0.613682 -0.169794  1.000000  0.590805 -0.165834  \n",
      "\n",
      "[103 rows x 99 columns]\n",
      "Imputation is successful\n",
      "Total number of Zeros: 1236 \n",
      "Missing -> 18.09%\n",
      "          0         1         2         3         4         5         6   \\\n",
      "0   0.000000  0.103093  0.500000  0.000000  0.094118  0.500000  0.000000   \n",
      "1   0.000000  0.103093  0.500000  0.010989  0.047059  0.478322  0.011494   \n",
      "2   0.011364  0.061856  0.478230  0.010989  0.047059  0.478322  0.011494   \n",
      "3   0.011364  0.061856  0.478230  0.010989  0.047059  0.478322  0.011494   \n",
      "4   0.011364  0.025773  0.457407  0.010989  0.047059  0.478322  0.011494   \n",
      "..       ...       ...       ...       ...       ...       ...       ...   \n",
      "64  0.252273  0.887629 -0.470279  0.232967  0.858824 -0.475589  0.248276   \n",
      "65  0.252273  0.887629 -0.470279  0.232967  0.858824 -0.475589  0.248276   \n",
      "66  0.186364  0.908247 -0.443398  0.147253  0.922353 -0.452780  0.147126   \n",
      "67  0.252273  0.887629 -0.470279  0.232967  0.858824 -0.475589  0.248276   \n",
      "68  0.186364  0.908247 -0.443398  0.147253  0.922353 -0.452780  0.147126   \n",
      "\n",
      "          7         8         9   ...        89        90        91        92  \\\n",
      "0   0.094118  0.500000  0.000000  ...  0.499521  0.684706  0.000000  0.500000   \n",
      "1   0.047059  0.478673  0.011236  ...  0.500000  0.640941  0.157396  0.369359   \n",
      "2   0.047059  0.478673  0.000000  ...  0.477011  0.861176  0.104536  0.418818   \n",
      "3   0.047059  0.478673  0.011236  ...  0.476054  0.814118  0.201183  0.346794   \n",
      "4   0.047059  0.478673  0.022472  ...  0.474617  0.694118  0.216963  0.330974   \n",
      "..       ...       ...       ...  ...       ...       ...       ...       ...   \n",
      "64  0.844706 -0.481801  0.258427  ... -0.420498  0.166118  0.977120 -0.486095   \n",
      "65  0.844706 -0.481801  0.258427  ... -0.420498  0.166118  0.977120 -0.486095   \n",
      "66  0.903529 -0.461422  0.155056  ... -0.429598  0.502588  0.898619 -0.459034   \n",
      "67  0.844706 -0.481801  0.258427  ... -0.420498  0.166118  0.977120 -0.486095   \n",
      "68  0.903529 -0.461422  0.155056  ... -0.443295  0.343059  0.907692 -0.466778   \n",
      "\n",
      "          93        94        95        96        97        98  \n",
      "0   0.129032  0.046602  0.481256  0.629630  0.067961  0.465101  \n",
      "1   0.177419  0.000000  0.500000  0.745014  0.100971  0.442266  \n",
      "2   0.104839  0.056699  0.460450  0.809117  0.000000  0.500000  \n",
      "3   0.080645  0.052816  0.464574  0.717949  0.211650  0.369022  \n",
      "4   0.024194  0.052427  0.459231  0.605413  0.269903  0.319905  \n",
      "..       ...       ...       ...       ...       ...       ...  \n",
      "64  0.256452  0.906796 -0.453046  0.526496  0.797282 -0.402283  \n",
      "65  0.256452  0.906796 -0.453046  0.526496  0.797282 -0.402283  \n",
      "66  0.080645  0.810485 -0.409747  0.713960  0.709126 -0.351616  \n",
      "67  0.256452  0.906796 -0.453046  0.526496  0.797282 -0.402283  \n",
      "68  0.080645  0.810485 -0.409747  0.713960  0.709126 -0.351616  \n",
      "\n",
      "[69 rows x 99 columns]\n",
      "Imputation is successful\n",
      "Total number of Zeros: 998 \n",
      "Missing -> 11.33%\n",
      "          0         1         2         3         4         5         6   \\\n",
      "0   0.448718  0.168627  0.499583  0.478873  0.096070  0.499583  0.475862   \n",
      "1   0.448718  0.168627  0.499583  0.478873  0.096070  0.499583  0.475862   \n",
      "2   0.403846  0.133333  0.500000  0.422535  0.096070  0.500000  0.427586   \n",
      "3   0.397436  0.113725  0.480801  0.422535  0.074236  0.480809  0.427586   \n",
      "4   0.397436  0.113725  0.480801  0.422535  0.096070  0.500000  0.427586   \n",
      "..       ...       ...       ...       ...       ...       ...       ...   \n",
      "84  0.032051  0.953725 -0.471536  0.036620  0.970306 -0.472048  0.045517   \n",
      "85  0.200000  0.956078 -0.392321  0.214085  0.983406 -0.393367  0.226207   \n",
      "86  0.048718  0.954510 -0.437312  0.039437  0.983406 -0.438924  0.051034   \n",
      "87  0.032051  0.953725 -0.471536  0.036620  0.970306 -0.472048  0.045517   \n",
      "88  0.492650  0.473935  0.031864  0.511174  0.491354  0.031954  0.515352   \n",
      "\n",
      "          7         8         9   ...        89        90        91        92  \\\n",
      "0   0.107759  0.500000  0.472603  ...  0.487353  0.117486  0.024155  0.477129   \n",
      "1   0.081897  0.480698  0.472603  ...  0.487353  0.142077  0.000000  0.500000   \n",
      "2   0.107759  0.500000  0.452055  ...  0.487353  0.494536  0.041063  0.475182   \n",
      "3   0.060345  0.462218  0.452055  ...  0.487353  0.713115  0.079710  0.474696   \n",
      "4   0.081897  0.480698  0.376712  ...  0.467480  0.937158  0.101449  0.447932   \n",
      "..       ...       ...       ...  ...       ...       ...       ...       ...   \n",
      "84  0.976724 -0.474456  0.093151  ... -0.482475  0.179235  0.884058 -0.475474   \n",
      "85  0.977586 -0.398234  0.142466  ... -0.482475  0.179235  0.884058 -0.475474   \n",
      "86  0.978448 -0.442423  0.053425  ... -0.482475  0.179235  0.884058 -0.475474   \n",
      "87  0.976724 -0.474456  0.093151  ... -0.482475  0.179235  0.884058 -0.475474   \n",
      "88  0.491954  0.021287  0.511515  ...  0.030073  0.243001  0.543701 -0.054999   \n",
      "\n",
      "          93        94        95        96        97        98  \n",
      "0   0.303125  0.054157  0.454634  0.678713  0.049772  0.474249  \n",
      "1   0.257812  0.040380  0.479007  0.160891  0.054795  0.487277  \n",
      "2   0.312500  0.023753  0.477983  0.571782  0.061644  0.458270  \n",
      "3   0.304688  0.000000  0.500000  0.750000  0.000000  0.500000  \n",
      "4   0.304688  0.000000  0.500000  0.910891  0.054795  0.475573  \n",
      "..       ...       ...       ...       ...       ...       ...  \n",
      "84  0.115625  0.925416 -0.438761  0.027228  0.989954 -0.494402  \n",
      "85  0.115625  0.925416 -0.438761  0.027228  0.989954 -0.494402  \n",
      "86  0.115625  0.925416 -0.438761  0.027228  0.989954 -0.494402  \n",
      "87  0.115625  0.925416 -0.438761  0.027228  0.989954 -0.494402  \n",
      "88  0.529815  0.567184 -0.067874  0.296904  0.528558 -0.042399  \n",
      "\n",
      "[89 rows x 99 columns]\n",
      "Imputation is successful\n",
      "Total number of Zeros: 462 \n",
      "Missing -> 4.62%\n",
      "         0         1         2         3         4         5         6   \\\n",
      "0    0.4560  0.714286  0.466667  0.478632  0.741433  0.466321  0.239669   \n",
      "1    0.6800  0.714286  0.466667  0.726496  0.755452  0.465889  0.603306   \n",
      "2    0.7360  0.714286  0.466667  0.552137  0.755452  0.465889  0.727273   \n",
      "3    0.2624  0.714286  0.466667  0.538462  0.755452  0.465889  0.545455   \n",
      "4    0.4560  0.688312  0.447009  0.418803  0.728972  0.446028  0.429752   \n",
      "..      ...       ...       ...       ...       ...       ...       ...   \n",
      "96   0.5120  0.478896  0.472650  0.598291  0.439252  0.495250  0.074380   \n",
      "97   0.2240  0.000000  0.479915  0.290598  0.000000  0.481002  0.123967   \n",
      "98   0.3360  0.508117  0.472222  0.418803  0.573209  0.471071  0.157025   \n",
      "99   0.4000  0.615260  0.449145  0.478632  0.657321  0.468912  0.297521   \n",
      "100  0.4560  0.670455  0.467949  0.538462  0.727414  0.466753  0.371901   \n",
      "\n",
      "           7         8         9   ...        89        90        91  \\\n",
      "0    0.739130  0.391557  0.291667  ... -0.185778  0.166302  0.471774   \n",
      "1    0.740683  0.372749  0.659722  ... -0.177778  0.166302  0.471774   \n",
      "2    0.753106  0.391557  0.708333  ... -0.152000  0.185996  0.449597   \n",
      "3    0.753106  0.391557  0.555556  ...  0.231556  0.188184  0.187500   \n",
      "4    0.726708  0.373149  0.458333  ...  0.487111  0.777681  0.191532   \n",
      "..        ...       ...       ...  ...       ...       ...       ...   \n",
      "96   0.472050  0.500000  0.381944  ... -0.025333  0.000000  0.292339   \n",
      "97   0.000000  0.405562  0.048611  ...  0.278222  0.085339  0.012097   \n",
      "98   0.600932  0.455182  0.027778  ... -0.014667  0.080963  0.312500   \n",
      "99   0.666149  0.413165  0.229167  ... -0.106667  0.135667  0.423387   \n",
      "100  0.712733  0.373549  0.305556  ... -0.257333  0.170678  0.526210   \n",
      "\n",
      "           92        93        94        95        96        97        98  \n",
      "0   -0.226165  0.205357  0.699153 -0.291313  0.053571  0.633508 -0.295812  \n",
      "1   -0.226165  0.348214  0.699153 -0.290814  0.055195  0.596859 -0.256981  \n",
      "2   -0.193949  0.633929  0.688559 -0.264353  0.061688  0.572426 -0.229058  \n",
      "3    0.085982  0.517857  0.404661  0.039690  0.074675  0.375218 -0.006981  \n",
      "4    0.358859  0.410714  0.201271  0.301797  0.082792  0.165794  0.271815  \n",
      "..        ...       ...       ...       ...       ...       ...       ...  \n",
      "96  -0.040705  0.660714  0.675847 -0.246880  0.000000  0.541012 -0.192408  \n",
      "97   0.252286  0.375000  0.478814 -0.021717  0.058442  0.342059  0.047993  \n",
      "98  -0.049412  0.000000  0.669492 -0.249376  0.014610  0.556719 -0.207243  \n",
      "99  -0.178711  0.000000  0.688559 -0.274838  0.044805  0.581152 -0.236038  \n",
      "100 -0.283631  0.187500  0.788136 -0.373689  0.053571  0.661431 -0.325916  \n",
      "\n",
      "[101 rows x 99 columns]\n",
      "Imputation is successful\n"
     ]
    }
   ],
   "source": [
    "# Create a loop to imputate all of the data available using KNN\n",
    "labels = []\n",
    "conditions = []\n",
    "data_all = []\n",
    "for label in os.listdir(dataDir):\n",
    "    coord_dir = os.path.join(dataDir, label)\n",
    "    for coord in os.listdir(coord_dir):\n",
    "        data = os.path.join(coord_dir, coord)\n",
    "        _, imputed_data = imputation(data)\n",
    "        scaled_data = np.array(imputed_data)\n",
    "        data_all.append(scaled_data)\n",
    "        labels.append(map_labels[label])\n",
    "        conditions.append(label)\n",
    "\n",
    "# All of the data is stored in data_all"
   ]
  },
  {
   "cell_type": "code",
   "execution_count": 7,
   "metadata": {},
   "outputs": [
    {
     "data": {
      "text/plain": [
       "-0.5000000000000001"
      ]
     },
     "execution_count": 7,
     "metadata": {},
     "output_type": "execute_result"
    }
   ],
   "source": [
    "np.min(data_all[5])"
   ]
  },
  {
   "cell_type": "markdown",
   "metadata": {},
   "source": [
    "### Unfinished Visualizations"
   ]
  },
  {
   "cell_type": "code",
   "execution_count": 7,
   "metadata": {},
   "outputs": [],
   "source": [
    "import seaborn as sns\n",
    "frame_count = []\n",
    "for frame_per_video in data_all:\n",
    "    frame_count.append(len(frame_per_video))"
   ]
  },
  {
   "cell_type": "code",
   "execution_count": 8,
   "metadata": {},
   "outputs": [
    {
     "data": {
      "text/plain": [
       "Text(0.5, 1.0, 'Frame Comparison')"
      ]
     },
     "execution_count": 8,
     "metadata": {},
     "output_type": "execute_result"
    },
    {
     "data": {
      "image/png": "[encoded data removed]",
      "text/plain": [
       "<Figure size 640x480 with 1 Axes>"
      ]
     },
     "metadata": {},
     "output_type": "display_data"
    }
   ],
   "source": [
    "from matplotlib.colors import to_hex\n",
    "frame_compare_df = pd.DataFrame({\n",
    "    \"Videos\" : name_labels,\n",
    "    \"Frame Count\": frame_count\n",
    "})\n",
    "\n",
    "sns.set_theme()\n",
    "frame_compare = sns.barplot(frame_compare_df, x=\"Videos\", y=\"Frame Count\", estimator=\"sum\", \n",
    "                            errorbar=None)\n",
    "frame_compare.bar_label(frame_compare.containers[0], fontsize=10)\n",
    "frame_compare.set_title(\"Frame Comparison\")"
   ]
  },
  {
   "cell_type": "markdown",
   "metadata": {},
   "source": [
    "### For 3D plot visualization"
   ]
  },
  {
   "cell_type": "code",
   "execution_count": 170,
   "metadata": {},
   "outputs": [],
   "source": [
    "# connections for the MediaPipe topology\n",
    "LANDMARK_GROUPS = [\n",
    "    [8, 6, 5, 4, 0, 1, 2, 3, 7],   # eyes\n",
    "    [10, 9],                       # mouth\n",
    "    [11, 13, 15, 17, 19, 15, 21],  # right arm\n",
    "    [11, 23, 25, 27, 29, 31, 27],  # right body side\n",
    "    [12, 14, 16, 18, 20, 16, 22],  # left arm\n",
    "    [12, 24, 26, 28, 30, 32, 28],  # left body side\n",
    "    [11, 12],                      # shoulder\n",
    "    [23, 24],                      # waist\n",
    "]\n",
    "\n",
    "\n",
    "def plot_world_landmarks(ax, landmarks, landmark_groups=LANDMARK_GROUPS):\n",
    "    \"\"\"_summary_\n",
    "    Args:\n",
    "        ax: plot axes\n",
    "        landmarks  mediapipe\n",
    "    \"\"\"\n",
    "\n",
    "    # skip when no landmarks are detected\n",
    "    if landmarks is None:\n",
    "        return\n",
    "\n",
    "    ax.cla()\n",
    "\n",
    "    # X-axis\n",
    "    # ax.view_init(azim=0, elev=0) \n",
    "    # Y-axis\n",
    "    # ax.view_init(azim=90, elev=0)\n",
    "    # Z-axis\n",
    "    # ax.view_init(azim=0, elev=90) \n",
    "\n",
    "    # had to flip the z axis\n",
    "    ax.set_xlim3d(0, 1)\n",
    "    ax.set_ylim3d(-0.5, 0.5)\n",
    "    ax.set_zlim3d(1, 0)\n",
    "\n",
    "    # get coordinates for each group and plot\n",
    "    for group in landmark_groups:\n",
    "        plotX, plotY, plotZ = [], [], []\n",
    "\n",
    "        plotX = [landmarks[i, 0] for i in group]\n",
    "        plotY = [landmarks[i, 1] for i in group]\n",
    "        plotZ = [landmarks[i, 2] for i in group]\n",
    "\n",
    "        # this can be changed according to your camera\n",
    "        ax.plot(plotX, plotZ, plotY)\n",
    "\n",
    "    ax.set_xlabel('X', color=\"blue\", size=10)\n",
    "    ax.set_ylabel('Y', color=\"green\", size=10)\n",
    "    ax.set_zlabel('Z', color=\"purple\", size=10)\n",
    "\n",
    "    ax.set_box_aspect(None, zoom=1.2)\n",
    "    return"
   ]
  },
  {
   "cell_type": "code",
   "execution_count": 171,
   "metadata": {},
   "outputs": [],
   "source": [
    "array = []\n",
    "def save_plot():\n",
    "    for sequences in range(sample_reshaped.shape[0]):\n",
    "        fig = plt.figure()\n",
    "        ax = fig.add_subplot(111, projection='3d')\n",
    "        plot_world_landmarks(ax=ax, landmarks=sample_reshaped[sequences])\n",
    "        ax.text2D(0,1, f\"Frame no.:{sequences}\", transform=ax.transAxes, color=\"red\")\n",
    "        ax.set_xlim(-0.1, 0.1)  # Set x-axis limits from 0 to 0.2\n",
    "        ax.set_ylim(0.1, 0.2)  # Set y-axis limits from 0 to 0.2\n",
    "        ax.set_zlim(-0.1, 0.1)  # Set z-axis limits from 0 to 0.2\n",
    "        ax.get_xaxis().set_visible(False)\n",
    "        plt.savefig(f'testAnimation/{sequences}')"
   ]
  },
  {
   "cell_type": "code",
   "execution_count": null,
   "metadata": {},
   "outputs": [],
   "source": [
    "save_plot()"
   ]
  },
  {
   "cell_type": "code",
   "execution_count": 173,
   "metadata": {},
   "outputs": [],
   "source": [
    "def key_f(x):\n",
    "    head, tail = x.split('.', 1)\n",
    "    return(int(head), tail)"
   ]
  },
  {
   "cell_type": "code",
   "execution_count": 174,
   "metadata": {},
   "outputs": [],
   "source": [
    "image_files = sorted(os.listdir('testAnimation'), key=key_f)\n",
    "\n",
    "files = []\n",
    "for i in range(len(image_files)):\n",
    "    files.append(os.path.join('testAnimation', image_files[i]))"
   ]
  },
  {
   "cell_type": "code",
   "execution_count": 175,
   "metadata": {},
   "outputs": [
    {
     "name": "stdout",
     "output_type": "stream",
     "text": [
      "Stored image_arrays shape: (89, 480, 640, 4)\n"
     ]
    },
    {
     "data": {
      "image/png": "[encoded data removed]",
      "text/plain": [
       "<Figure size 640x480 with 1 Axes>"
      ]
     },
     "metadata": {},
     "output_type": "display_data"
    }
   ],
   "source": [
    "from PIL import Image\n",
    "def store_image(files):\n",
    "    image_array = []\n",
    "\n",
    "    for file in files:\n",
    "\n",
    "        image = Image.open(file)\n",
    "        image_array.append(image)\n",
    "\n",
    "    print(f'Stored image_arrays shape: {np.array(image_array).shape}')\n",
    "    return image_array\n",
    "\n",
    "get_image = store_image(files)\n",
    "\n",
    "fig, ax = plt.subplots()\n",
    "ax.spines['right'].set_visible(False)\n",
    "ax.spines['top'].set_visible(False)\n",
    "ax.spines['left'].set_visible(False)\n",
    "ax.spines['bottom'].set_visible(False)\n",
    "\n",
    "ax.get_xaxis().set_visible(False)\n",
    "ax.get_yaxis().set_visible(False)\n",
    "ax.margins(0. -0.1)  \n",
    "im = ax.imshow(get_image[1], animated = True)"
   ]
  },
  {
   "cell_type": "code",
   "execution_count": 176,
   "metadata": {},
   "outputs": [],
   "source": [
    "import matplotlib.animation as animation\n",
    "def update(i):\n",
    "    im.set_array(get_image[i])\n",
    "    return im\n",
    "\n",
    "animation_fig = animation.FuncAnimation(fig, update, frames = len(get_image), interval=1, repeat_delay=0)\n",
    "\n",
    "ax.spines['right'].set_visible(False)\n",
    "ax.spines['top'].set_visible(False)\n",
    "ax.spines['left'].set_visible(False)\n",
    "ax.spines['bottom'].set_visible(False)\n",
    "\n",
    "ax.get_xaxis().set_visible(False)\n",
    "ax.get_yaxis().set_visible(False)\n",
    "ax.margins(0. -0.05)  \n",
    "plt.show()\n",
    "\n",
    "animation_fig.save('animated_normal_pos.gif')"
   ]
  },
  {
   "cell_type": "markdown",
   "metadata": {},
   "source": [
    "### Training Data and Testing Data"
   ]
  },
  {
   "cell_type": "code",
   "execution_count": 14,
   "metadata": {},
   "outputs": [],
   "source": [
    "def get_min(data_all):\n",
    "    values = []\n",
    "    preprocessed_data = []\n",
    "    for data in data_all:\n",
    "        values.append(len(data))\n",
    "\n",
    "    min_value = min(values)\n",
    "    for data in data_all:\n",
    "        preprocessed_data.append(data[:min_value,:])\n",
    "        \n",
    "    return preprocessed_data"
   ]
  },
  {
   "cell_type": "code",
   "execution_count": 15,
   "metadata": {},
   "outputs": [],
   "source": [
    "preprocessed_data = get_min(data_all=data_all)"
   ]
  },
  {
   "cell_type": "code",
   "execution_count": 16,
   "metadata": {},
   "outputs": [],
   "source": [
    "preprocessed_data = np.asarray(preprocessed_data)\n",
    "labels = np.array(labels)"
   ]
  },
  {
   "cell_type": "code",
   "execution_count": 17,
   "metadata": {},
   "outputs": [
    {
     "name": "stdout",
     "output_type": "stream",
     "text": [
      "Shape matches, continue for training\n",
      "The shape of the Data: (6, 69, 99)\n",
      "The shape of the labels: (6,)\n"
     ]
    }
   ],
   "source": [
    "if(preprocessed_data.shape[0]==labels.shape[0]):\n",
    "    print('Shape matches, continue for training')\n",
    "else:\n",
    "    print('Shape does not match')\n",
    "print(f'The shape of the Data: {preprocessed_data.shape}')\n",
    "print(f'The shape of the labels: {labels.shape}')"
   ]
  },
  {
   "cell_type": "code",
   "execution_count": 18,
   "metadata": {},
   "outputs": [],
   "source": [
    "from keras.utils import to_categorical\n",
    "reshaped_data = np.reshape(preprocessed_data, (6, 69, 33, 3))\n",
    "encoded_labels = to_categorical(labels)"
   ]
  },
  {
   "cell_type": "code",
   "execution_count": 19,
   "metadata": {},
   "outputs": [],
   "source": [
    "from sklearn.model_selection import train_test_split\n",
    "features_train, features_test, labels_train, labels_test = train_test_split(reshaped_data,\n",
    "                                                                            encoded_labels,\n",
    "                                                                            test_size=0.1,\n",
    "                                                                            shuffle=True)"
   ]
  },
  {
   "cell_type": "markdown",
   "metadata": {},
   "source": [
    "### Model implementations -> Incomplete"
   ]
  },
  {
   "cell_type": "code",
   "execution_count": 27,
   "metadata": {},
   "outputs": [],
   "source": [
    "import tensorflow as tf\n",
    "from keras.models import Sequential\n",
    "from keras.layers import Dense, Conv1D, LSTM, Dropout, MaxPool1D, TimeDistributed, Flatten, Input\n",
    "\n",
    "def lstm_model():\n",
    "    model = Sequential()\n",
    "    model.add(TimeDistributed(Conv1D(filters=2, kernel_size=(3), activation='relu',\n",
    "                                     padding='same'), input_shape = (69, 33, 3)))\n",
    "    model.add(TimeDistributed(MaxPool1D(pool_size=(2), padding = 'same')))\n",
    "    model.add(TimeDistributed(Dropout(0.1)))\n",
    "\n",
    "    model.add(TimeDistributed(Conv1D(filters=4, kernel_size=(3), activation='relu',\n",
    "                                     padding='same')))\n",
    "    model.add(TimeDistributed(MaxPool1D(pool_size=(2), padding = 'same')))\n",
    "    model.add(TimeDistributed(Dropout(0.1)))\n",
    "\n",
    "    model.add(TimeDistributed(Flatten()))\n",
    "\n",
    "    model.add(LSTM(units=2))\n",
    "    model.add(Dense(units=2, activation='sigmoid'))\n",
    "\n",
    "    return model"
   ]
  },
  {
   "cell_type": "code",
   "execution_count": 28,
   "metadata": {},
   "outputs": [
    {
     "data": {
      "text/html": [
       "<pre style=\"white-space:pre;overflow-x:auto;line-height:normal;font-family:Menlo,'DejaVu Sans Mono',consolas,'Courier New',monospace\"><span style=\"font-weight: bold\">Model: \"sequential_2\"</span>\n",
       "</pre>\n"
      ],
      "text/plain": [
       "\u001b[1mModel: \"sequential_2\"\u001b[0m\n"
      ]
     },
     "metadata": {},
     "output_type": "display_data"
    },
    {
     "data": {
      "text/html": [
       "<pre style=\"white-space:pre;overflow-x:auto;line-height:normal;font-family:Menlo,'DejaVu Sans Mono',consolas,'Courier New',monospace\">┏━━━━━━━━━━━━━━━━━━━━━━━━━━━━━━━━━┳━━━━━━━━━━━━━━━━━━━━━━━━┳━━━━━━━━━━━━━━━┓\n",
       "┃<span style=\"font-weight: bold\"> Layer (type)                    </span>┃<span style=\"font-weight: bold\"> Output Shape           </span>┃<span style=\"font-weight: bold\">       Param # </span>┃\n",
       "┡━━━━━━━━━━━━━━━━━━━━━━━━━━━━━━━━━╇━━━━━━━━━━━━━━━━━━━━━━━━╇━━━━━━━━━━━━━━━┩\n",
       "│ time_distributed_14             │ (<span style=\"color: #00d7ff; text-decoration-color: #00d7ff\">None</span>, <span style=\"color: #00af00; text-decoration-color: #00af00\">69</span>, <span style=\"color: #00af00; text-decoration-color: #00af00\">33</span>, <span style=\"color: #00af00; text-decoration-color: #00af00\">8</span>)      │            <span style=\"color: #00af00; text-decoration-color: #00af00\">80</span> │\n",
       "│ (<span style=\"color: #0087ff; text-decoration-color: #0087ff\">TimeDistributed</span>)               │                        │               │\n",
       "├─────────────────────────────────┼────────────────────────┼───────────────┤\n",
       "│ time_distributed_15             │ (<span style=\"color: #00d7ff; text-decoration-color: #00d7ff\">None</span>, <span style=\"color: #00af00; text-decoration-color: #00af00\">69</span>, <span style=\"color: #00af00; text-decoration-color: #00af00\">17</span>, <span style=\"color: #00af00; text-decoration-color: #00af00\">8</span>)      │             <span style=\"color: #00af00; text-decoration-color: #00af00\">0</span> │\n",
       "│ (<span style=\"color: #0087ff; text-decoration-color: #0087ff\">TimeDistributed</span>)               │                        │               │\n",
       "├─────────────────────────────────┼────────────────────────┼───────────────┤\n",
       "│ time_distributed_16             │ (<span style=\"color: #00d7ff; text-decoration-color: #00d7ff\">None</span>, <span style=\"color: #00af00; text-decoration-color: #00af00\">69</span>, <span style=\"color: #00af00; text-decoration-color: #00af00\">17</span>, <span style=\"color: #00af00; text-decoration-color: #00af00\">8</span>)      │             <span style=\"color: #00af00; text-decoration-color: #00af00\">0</span> │\n",
       "│ (<span style=\"color: #0087ff; text-decoration-color: #0087ff\">TimeDistributed</span>)               │                        │               │\n",
       "├─────────────────────────────────┼────────────────────────┼───────────────┤\n",
       "│ time_distributed_17             │ (<span style=\"color: #00d7ff; text-decoration-color: #00d7ff\">None</span>, <span style=\"color: #00af00; text-decoration-color: #00af00\">69</span>, <span style=\"color: #00af00; text-decoration-color: #00af00\">17</span>, <span style=\"color: #00af00; text-decoration-color: #00af00\">16</span>)     │           <span style=\"color: #00af00; text-decoration-color: #00af00\">400</span> │\n",
       "│ (<span style=\"color: #0087ff; text-decoration-color: #0087ff\">TimeDistributed</span>)               │                        │               │\n",
       "├─────────────────────────────────┼────────────────────────┼───────────────┤\n",
       "│ time_distributed_18             │ (<span style=\"color: #00d7ff; text-decoration-color: #00d7ff\">None</span>, <span style=\"color: #00af00; text-decoration-color: #00af00\">69</span>, <span style=\"color: #00af00; text-decoration-color: #00af00\">9</span>, <span style=\"color: #00af00; text-decoration-color: #00af00\">16</span>)      │             <span style=\"color: #00af00; text-decoration-color: #00af00\">0</span> │\n",
       "│ (<span style=\"color: #0087ff; text-decoration-color: #0087ff\">TimeDistributed</span>)               │                        │               │\n",
       "├─────────────────────────────────┼────────────────────────┼───────────────┤\n",
       "│ time_distributed_19             │ (<span style=\"color: #00d7ff; text-decoration-color: #00d7ff\">None</span>, <span style=\"color: #00af00; text-decoration-color: #00af00\">69</span>, <span style=\"color: #00af00; text-decoration-color: #00af00\">9</span>, <span style=\"color: #00af00; text-decoration-color: #00af00\">16</span>)      │             <span style=\"color: #00af00; text-decoration-color: #00af00\">0</span> │\n",
       "│ (<span style=\"color: #0087ff; text-decoration-color: #0087ff\">TimeDistributed</span>)               │                        │               │\n",
       "├─────────────────────────────────┼────────────────────────┼───────────────┤\n",
       "│ time_distributed_20             │ (<span style=\"color: #00d7ff; text-decoration-color: #00d7ff\">None</span>, <span style=\"color: #00af00; text-decoration-color: #00af00\">69</span>, <span style=\"color: #00af00; text-decoration-color: #00af00\">144</span>)        │             <span style=\"color: #00af00; text-decoration-color: #00af00\">0</span> │\n",
       "│ (<span style=\"color: #0087ff; text-decoration-color: #0087ff\">TimeDistributed</span>)               │                        │               │\n",
       "├─────────────────────────────────┼────────────────────────┼───────────────┤\n",
       "│ lstm_2 (<span style=\"color: #0087ff; text-decoration-color: #0087ff\">LSTM</span>)                   │ (<span style=\"color: #00d7ff; text-decoration-color: #00d7ff\">None</span>, <span style=\"color: #00af00; text-decoration-color: #00af00\">16</span>)             │        <span style=\"color: #00af00; text-decoration-color: #00af00\">10,304</span> │\n",
       "├─────────────────────────────────┼────────────────────────┼───────────────┤\n",
       "│ dense_2 (<span style=\"color: #0087ff; text-decoration-color: #0087ff\">Dense</span>)                 │ (<span style=\"color: #00d7ff; text-decoration-color: #00d7ff\">None</span>, <span style=\"color: #00af00; text-decoration-color: #00af00\">2</span>)              │            <span style=\"color: #00af00; text-decoration-color: #00af00\">34</span> │\n",
       "└─────────────────────────────────┴────────────────────────┴───────────────┘\n",
       "</pre>\n"
      ],
      "text/plain": [
       "┏━━━━━━━━━━━━━━━━━━━━━━━━━━━━━━━━━┳━━━━━━━━━━━━━━━━━━━━━━━━┳━━━━━━━━━━━━━━━┓\n",
       "┃\u001b[1m \u001b[0m\u001b[1mLayer (type)                   \u001b[0m\u001b[1m \u001b[0m┃\u001b[1m \u001b[0m\u001b[1mOutput Shape          \u001b[0m\u001b[1m \u001b[0m┃\u001b[1m \u001b[0m\u001b[1m      Param #\u001b[0m\u001b[1m \u001b[0m┃\n",
       "┡━━━━━━━━━━━━━━━━━━━━━━━━━━━━━━━━━╇━━━━━━━━━━━━━━━━━━━━━━━━╇━━━━━━━━━━━━━━━┩\n",
       "│ time_distributed_14             │ (\u001b[38;5;45mNone\u001b[0m, \u001b[38;5;34m69\u001b[0m, \u001b[38;5;34m33\u001b[0m, \u001b[38;5;34m8\u001b[0m)      │            \u001b[38;5;34m80\u001b[0m │\n",
       "│ (\u001b[38;5;33mTimeDistributed\u001b[0m)               │                        │               │\n",
       "├─────────────────────────────────┼────────────────────────┼───────────────┤\n",
       "│ time_distributed_15             │ (\u001b[38;5;45mNone\u001b[0m, \u001b[38;5;34m69\u001b[0m, \u001b[38;5;34m17\u001b[0m, \u001b[38;5;34m8\u001b[0m)      │             \u001b[38;5;34m0\u001b[0m │\n",
       "│ (\u001b[38;5;33mTimeDistributed\u001b[0m)               │                        │               │\n",
       "├─────────────────────────────────┼────────────────────────┼───────────────┤\n",
       "│ time_distributed_16             │ (\u001b[38;5;45mNone\u001b[0m, \u001b[38;5;34m69\u001b[0m, \u001b[38;5;34m17\u001b[0m, \u001b[38;5;34m8\u001b[0m)      │             \u001b[38;5;34m0\u001b[0m │\n",
       "│ (\u001b[38;5;33mTimeDistributed\u001b[0m)               │                        │               │\n",
       "├─────────────────────────────────┼────────────────────────┼───────────────┤\n",
       "│ time_distributed_17             │ (\u001b[38;5;45mNone\u001b[0m, \u001b[38;5;34m69\u001b[0m, \u001b[38;5;34m17\u001b[0m, \u001b[38;5;34m16\u001b[0m)     │           \u001b[38;5;34m400\u001b[0m │\n",
       "│ (\u001b[38;5;33mTimeDistributed\u001b[0m)               │                        │               │\n",
       "├─────────────────────────────────┼────────────────────────┼───────────────┤\n",
       "│ time_distributed_18             │ (\u001b[38;5;45mNone\u001b[0m, \u001b[38;5;34m69\u001b[0m, \u001b[38;5;34m9\u001b[0m, \u001b[38;5;34m16\u001b[0m)      │             \u001b[38;5;34m0\u001b[0m │\n",
       "│ (\u001b[38;5;33mTimeDistributed\u001b[0m)               │                        │               │\n",
       "├─────────────────────────────────┼────────────────────────┼───────────────┤\n",
       "│ time_distributed_19             │ (\u001b[38;5;45mNone\u001b[0m, \u001b[38;5;34m69\u001b[0m, \u001b[38;5;34m9\u001b[0m, \u001b[38;5;34m16\u001b[0m)      │             \u001b[38;5;34m0\u001b[0m │\n",
       "│ (\u001b[38;5;33mTimeDistributed\u001b[0m)               │                        │               │\n",
       "├─────────────────────────────────┼────────────────────────┼───────────────┤\n",
       "│ time_distributed_20             │ (\u001b[38;5;45mNone\u001b[0m, \u001b[38;5;34m69\u001b[0m, \u001b[38;5;34m144\u001b[0m)        │             \u001b[38;5;34m0\u001b[0m │\n",
       "│ (\u001b[38;5;33mTimeDistributed\u001b[0m)               │                        │               │\n",
       "├─────────────────────────────────┼────────────────────────┼───────────────┤\n",
       "│ lstm_2 (\u001b[38;5;33mLSTM\u001b[0m)                   │ (\u001b[38;5;45mNone\u001b[0m, \u001b[38;5;34m16\u001b[0m)             │        \u001b[38;5;34m10,304\u001b[0m │\n",
       "├─────────────────────────────────┼────────────────────────┼───────────────┤\n",
       "│ dense_2 (\u001b[38;5;33mDense\u001b[0m)                 │ (\u001b[38;5;45mNone\u001b[0m, \u001b[38;5;34m2\u001b[0m)              │            \u001b[38;5;34m34\u001b[0m │\n",
       "└─────────────────────────────────┴────────────────────────┴───────────────┘\n"
      ]
     },
     "metadata": {},
     "output_type": "display_data"
    },
    {
     "data": {
      "text/html": [
       "<pre style=\"white-space:pre;overflow-x:auto;line-height:normal;font-family:Menlo,'DejaVu Sans Mono',consolas,'Courier New',monospace\"><span style=\"font-weight: bold\"> Total params: </span><span style=\"color: #00af00; text-decoration-color: #00af00\">10,818</span> (42.26 KB)\n",
       "</pre>\n"
      ],
      "text/plain": [
       "\u001b[1m Total params: \u001b[0m\u001b[38;5;34m10,818\u001b[0m (42.26 KB)\n"
      ]
     },
     "metadata": {},
     "output_type": "display_data"
    },
    {
     "data": {
      "text/html": [
       "<pre style=\"white-space:pre;overflow-x:auto;line-height:normal;font-family:Menlo,'DejaVu Sans Mono',consolas,'Courier New',monospace\"><span style=\"font-weight: bold\"> Trainable params: </span><span style=\"color: #00af00; text-decoration-color: #00af00\">10,818</span> (42.26 KB)\n",
       "</pre>\n"
      ],
      "text/plain": [
       "\u001b[1m Trainable params: \u001b[0m\u001b[38;5;34m10,818\u001b[0m (42.26 KB)\n"
      ]
     },
     "metadata": {},
     "output_type": "display_data"
    },
    {
     "data": {
      "text/html": [
       "<pre style=\"white-space:pre;overflow-x:auto;line-height:normal;font-family:Menlo,'DejaVu Sans Mono',consolas,'Courier New',monospace\"><span style=\"font-weight: bold\"> Non-trainable params: </span><span style=\"color: #00af00; text-decoration-color: #00af00\">0</span> (0.00 B)\n",
       "</pre>\n"
      ],
      "text/plain": [
       "\u001b[1m Non-trainable params: \u001b[0m\u001b[38;5;34m0\u001b[0m (0.00 B)\n"
      ]
     },
     "metadata": {},
     "output_type": "display_data"
    }
   ],
   "source": [
    "lstm = lstm_model()\n",
    "lstm.summary()"
   ]
  },
  {
   "cell_type": "code",
   "execution_count": 29,
   "metadata": {},
   "outputs": [],
   "source": [
    "from keras.callbacks import EarlyStopping\n",
    "callback = EarlyStopping(monitor = 'loss', patience = 5)"
   ]
  },
  {
   "cell_type": "code",
   "execution_count": 30,
   "metadata": {},
   "outputs": [],
   "source": [
    "from keras.optimizers import Adam\n",
    "optimizer = Adam(learning_rate=1e-4)"
   ]
  },
  {
   "cell_type": "code",
   "execution_count": 31,
   "metadata": {},
   "outputs": [],
   "source": [
    "lstm.compile(loss = 'categorical_crossentropy', optimizer = optimizer, metrics=(['accuracy']))"
   ]
  },
  {
   "cell_type": "code",
   "execution_count": 32,
   "metadata": {},
   "outputs": [
    {
     "name": "stdout",
     "output_type": "stream",
     "text": [
      "Epoch 1/50\n",
      "\u001b[1m4/4\u001b[0m \u001b[32m━━━━━━━━━━━━━━━━━━━━\u001b[0m\u001b[37m\u001b[0m \u001b[1m34s\u001b[0m 1s/step - accuracy: 0.2667 - loss: 0.7461 - val_accuracy: 1.0000 - val_loss: 0.6380\n",
      "Epoch 2/50\n",
      "\u001b[1m4/4\u001b[0m \u001b[32m━━━━━━━━━━━━━━━━━━━━\u001b[0m\u001b[37m\u001b[0m \u001b[1m0s\u001b[0m 24ms/step - accuracy: 0.4333 - loss: 0.7006 - val_accuracy: 1.0000 - val_loss: 0.6516\n",
      "Epoch 3/50\n",
      "\u001b[1m4/4\u001b[0m \u001b[32m━━━━━━━━━━━━━━━━━━━━\u001b[0m\u001b[37m\u001b[0m \u001b[1m0s\u001b[0m 25ms/step - accuracy: 0.0000e+00 - loss: 0.7287 - val_accuracy: 1.0000 - val_loss: 0.6631\n",
      "Epoch 4/50\n",
      "\u001b[1m4/4\u001b[0m \u001b[32m━━━━━━━━━━━━━━━━━━━━\u001b[0m\u001b[37m\u001b[0m \u001b[1m0s\u001b[0m 25ms/step - accuracy: 0.8333 - loss: 0.6685 - val_accuracy: 1.0000 - val_loss: 0.6764\n",
      "Epoch 5/50\n",
      "\u001b[1m4/4\u001b[0m \u001b[32m━━━━━━━━━━━━━━━━━━━━\u001b[0m\u001b[37m\u001b[0m \u001b[1m0s\u001b[0m 24ms/step - accuracy: 0.1667 - loss: 0.7343 - val_accuracy: 1.0000 - val_loss: 0.6865\n",
      "Epoch 6/50\n",
      "\u001b[1m4/4\u001b[0m \u001b[32m━━━━━━━━━━━━━━━━━━━━\u001b[0m\u001b[37m\u001b[0m \u001b[1m0s\u001b[0m 24ms/step - accuracy: 0.5667 - loss: 0.6502 - val_accuracy: 0.0000e+00 - val_loss: 0.6999\n",
      "Epoch 7/50\n",
      "\u001b[1m4/4\u001b[0m \u001b[32m━━━━━━━━━━━━━━━━━━━━\u001b[0m\u001b[37m\u001b[0m \u001b[1m0s\u001b[0m 23ms/step - accuracy: 0.6333 - loss: 0.6939 - val_accuracy: 0.0000e+00 - val_loss: 0.7142\n",
      "Epoch 8/50\n",
      "\u001b[1m4/4\u001b[0m \u001b[32m━━━━━━━━━━━━━━━━━━━━\u001b[0m\u001b[37m\u001b[0m \u001b[1m0s\u001b[0m 25ms/step - accuracy: 0.5667 - loss: 0.7085 - val_accuracy: 0.0000e+00 - val_loss: 0.7254\n",
      "Epoch 9/50\n",
      "\u001b[1m4/4\u001b[0m \u001b[32m━━━━━━━━━━━━━━━━━━━━\u001b[0m\u001b[37m\u001b[0m \u001b[1m0s\u001b[0m 24ms/step - accuracy: 0.5667 - loss: 0.7176 - val_accuracy: 0.0000e+00 - val_loss: 0.7368\n",
      "Epoch 10/50\n",
      "\u001b[1m4/4\u001b[0m \u001b[32m━━━━━━━━━━━━━━━━━━━━\u001b[0m\u001b[37m\u001b[0m \u001b[1m0s\u001b[0m 23ms/step - accuracy: 0.5333 - loss: 0.6476 - val_accuracy: 0.0000e+00 - val_loss: 0.7471\n",
      "Epoch 11/50\n",
      "\u001b[1m4/4\u001b[0m \u001b[32m━━━━━━━━━━━━━━━━━━━━\u001b[0m\u001b[37m\u001b[0m \u001b[1m0s\u001b[0m 24ms/step - accuracy: 0.9000 - loss: 0.6076 - val_accuracy: 0.0000e+00 - val_loss: 0.7614\n",
      "Epoch 12/50\n",
      "\u001b[1m4/4\u001b[0m \u001b[32m━━━━━━━━━━━━━━━━━━━━\u001b[0m\u001b[37m\u001b[0m \u001b[1m0s\u001b[0m 23ms/step - accuracy: 0.6333 - loss: 0.5970 - val_accuracy: 0.0000e+00 - val_loss: 0.7747\n",
      "Epoch 13/50\n",
      "\u001b[1m4/4\u001b[0m \u001b[32m━━━━━━━━━━━━━━━━━━━━\u001b[0m\u001b[37m\u001b[0m \u001b[1m0s\u001b[0m 24ms/step - accuracy: 0.3667 - loss: 0.7091 - val_accuracy: 0.0000e+00 - val_loss: 0.7835\n",
      "Epoch 14/50\n",
      "\u001b[1m4/4\u001b[0m \u001b[32m━━━━━━━━━━━━━━━━━━━━\u001b[0m\u001b[37m\u001b[0m \u001b[1m0s\u001b[0m 24ms/step - accuracy: 0.9000 - loss: 0.6075 - val_accuracy: 0.0000e+00 - val_loss: 0.7967\n",
      "Epoch 15/50\n",
      "\u001b[1m4/4\u001b[0m \u001b[32m━━━━━━━━━━━━━━━━━━━━\u001b[0m\u001b[37m\u001b[0m \u001b[1m0s\u001b[0m 25ms/step - accuracy: 0.7333 - loss: 0.6111 - val_accuracy: 0.0000e+00 - val_loss: 0.8061\n",
      "Epoch 16/50\n",
      "\u001b[1m4/4\u001b[0m \u001b[32m━━━━━━━━━━━━━━━━━━━━\u001b[0m\u001b[37m\u001b[0m \u001b[1m0s\u001b[0m 26ms/step - accuracy: 0.5333 - loss: 0.6994 - val_accuracy: 0.0000e+00 - val_loss: 0.8148\n",
      "Epoch 17/50\n",
      "\u001b[1m4/4\u001b[0m \u001b[32m━━━━━━━━━━━━━━━━━━━━\u001b[0m\u001b[37m\u001b[0m \u001b[1m0s\u001b[0m 26ms/step - accuracy: 0.7333 - loss: 0.6396 - val_accuracy: 0.0000e+00 - val_loss: 0.8254\n",
      "Epoch 18/50\n",
      "\u001b[1m4/4\u001b[0m \u001b[32m━━━━━━━━━━━━━━━━━━━━\u001b[0m\u001b[37m\u001b[0m \u001b[1m0s\u001b[0m 26ms/step - accuracy: 0.8333 - loss: 0.6029 - val_accuracy: 0.0000e+00 - val_loss: 0.8371\n",
      "Epoch 19/50\n",
      "\u001b[1m4/4\u001b[0m \u001b[32m━━━━━━━━━━━━━━━━━━━━\u001b[0m\u001b[37m\u001b[0m \u001b[1m0s\u001b[0m 23ms/step - accuracy: 0.9000 - loss: 0.5609 - val_accuracy: 0.0000e+00 - val_loss: 0.8497\n",
      "Epoch 20/50\n",
      "\u001b[1m4/4\u001b[0m \u001b[32m━━━━━━━━━━━━━━━━━━━━\u001b[0m\u001b[37m\u001b[0m \u001b[1m0s\u001b[0m 24ms/step - accuracy: 0.8333 - loss: 0.5613 - val_accuracy: 0.0000e+00 - val_loss: 0.8599\n",
      "Epoch 21/50\n",
      "\u001b[1m4/4\u001b[0m \u001b[32m━━━━━━━━━━━━━━━━━━━━\u001b[0m\u001b[37m\u001b[0m \u001b[1m0s\u001b[0m 23ms/step - accuracy: 0.5333 - loss: 0.6718 - val_accuracy: 0.0000e+00 - val_loss: 0.8675\n",
      "Epoch 22/50\n",
      "\u001b[1m4/4\u001b[0m \u001b[32m━━━━━━━━━━━━━━━━━━━━\u001b[0m\u001b[37m\u001b[0m \u001b[1m0s\u001b[0m 24ms/step - accuracy: 0.9000 - loss: 0.5468 - val_accuracy: 0.0000e+00 - val_loss: 0.8802\n",
      "Epoch 23/50\n",
      "\u001b[1m4/4\u001b[0m \u001b[32m━━━━━━━━━━━━━━━━━━━━\u001b[0m\u001b[37m\u001b[0m \u001b[1m0s\u001b[0m 24ms/step - accuracy: 0.9000 - loss: 0.5276 - val_accuracy: 0.0000e+00 - val_loss: 0.8915\n",
      "Epoch 24/50\n",
      "\u001b[1m4/4\u001b[0m \u001b[32m━━━━━━━━━━━━━━━━━━━━\u001b[0m\u001b[37m\u001b[0m \u001b[1m0s\u001b[0m 23ms/step - accuracy: 0.5333 - loss: 0.6817 - val_accuracy: 0.0000e+00 - val_loss: 0.8970\n",
      "Epoch 25/50\n",
      "\u001b[1m4/4\u001b[0m \u001b[32m━━━━━━━━━━━━━━━━━━━━\u001b[0m\u001b[37m\u001b[0m \u001b[1m0s\u001b[0m 24ms/step - accuracy: 0.5333 - loss: 0.6782 - val_accuracy: 0.0000e+00 - val_loss: 0.9034\n",
      "Epoch 26/50\n",
      "\u001b[1m4/4\u001b[0m \u001b[32m━━━━━━━━━━━━━━━━━━━━\u001b[0m\u001b[37m\u001b[0m \u001b[1m0s\u001b[0m 25ms/step - accuracy: 0.5333 - loss: 0.6673 - val_accuracy: 0.0000e+00 - val_loss: 0.9108\n",
      "Epoch 27/50\n",
      "\u001b[1m4/4\u001b[0m \u001b[32m━━━━━━━━━━━━━━━━━━━━\u001b[0m\u001b[37m\u001b[0m \u001b[1m0s\u001b[0m 25ms/step - accuracy: 0.9000 - loss: 0.4950 - val_accuracy: 0.0000e+00 - val_loss: 0.9241\n",
      "Epoch 28/50\n",
      "\u001b[1m4/4\u001b[0m \u001b[32m━━━━━━━━━━━━━━━━━━━━\u001b[0m\u001b[37m\u001b[0m \u001b[1m0s\u001b[0m 24ms/step - accuracy: 0.7333 - loss: 0.6007 - val_accuracy: 0.0000e+00 - val_loss: 0.9320\n",
      "Epoch 29/50\n",
      "\u001b[1m4/4\u001b[0m \u001b[32m━━━━━━━━━━━━━━━━━━━━\u001b[0m\u001b[37m\u001b[0m \u001b[1m0s\u001b[0m 25ms/step - accuracy: 0.7333 - loss: 0.6162 - val_accuracy: 0.0000e+00 - val_loss: 0.9400\n",
      "Epoch 30/50\n",
      "\u001b[1m4/4\u001b[0m \u001b[32m━━━━━━━━━━━━━━━━━━━━\u001b[0m\u001b[37m\u001b[0m \u001b[1m0s\u001b[0m 24ms/step - accuracy: 0.9000 - loss: 0.4982 - val_accuracy: 0.0000e+00 - val_loss: 0.9518\n",
      "Epoch 31/50\n",
      "\u001b[1m4/4\u001b[0m \u001b[32m━━━━━━━━━━━━━━━━━━━━\u001b[0m\u001b[37m\u001b[0m \u001b[1m0s\u001b[0m 24ms/step - accuracy: 0.5333 - loss: 0.6887 - val_accuracy: 0.0000e+00 - val_loss: 0.9566\n",
      "Epoch 32/50\n",
      "\u001b[1m4/4\u001b[0m \u001b[32m━━━━━━━━━━━━━━━━━━━━\u001b[0m\u001b[37m\u001b[0m \u001b[1m0s\u001b[0m 25ms/step - accuracy: 0.7333 - loss: 0.5824 - val_accuracy: 0.0000e+00 - val_loss: 0.9644\n",
      "Epoch 33/50\n",
      "\u001b[1m4/4\u001b[0m \u001b[32m━━━━━━━━━━━━━━━━━━━━\u001b[0m\u001b[37m\u001b[0m \u001b[1m0s\u001b[0m 26ms/step - accuracy: 0.9000 - loss: 0.4829 - val_accuracy: 0.0000e+00 - val_loss: 0.9763\n",
      "Epoch 34/50\n",
      "\u001b[1m4/4\u001b[0m \u001b[32m━━━━━━━━━━━━━━━━━━━━\u001b[0m\u001b[37m\u001b[0m \u001b[1m0s\u001b[0m 25ms/step - accuracy: 0.8333 - loss: 0.5246 - val_accuracy: 0.0000e+00 - val_loss: 0.9842\n",
      "Epoch 35/50\n",
      "\u001b[1m4/4\u001b[0m \u001b[32m━━━━━━━━━━━━━━━━━━━━\u001b[0m\u001b[37m\u001b[0m \u001b[1m0s\u001b[0m 24ms/step - accuracy: 0.9000 - loss: 0.4254 - val_accuracy: 0.0000e+00 - val_loss: 0.9934\n",
      "Epoch 36/50\n",
      "\u001b[1m4/4\u001b[0m \u001b[32m━━━━━━━━━━━━━━━━━━━━\u001b[0m\u001b[37m\u001b[0m \u001b[1m0s\u001b[0m 25ms/step - accuracy: 0.9000 - loss: 0.4594 - val_accuracy: 0.0000e+00 - val_loss: 1.0024\n",
      "Epoch 37/50\n",
      "\u001b[1m4/4\u001b[0m \u001b[32m━━━━━━━━━━━━━━━━━━━━\u001b[0m\u001b[37m\u001b[0m \u001b[1m0s\u001b[0m 24ms/step - accuracy: 0.9000 - loss: 0.4687 - val_accuracy: 0.0000e+00 - val_loss: 1.0103\n",
      "Epoch 38/50\n",
      "\u001b[1m4/4\u001b[0m \u001b[32m━━━━━━━━━━━━━━━━━━━━\u001b[0m\u001b[37m\u001b[0m \u001b[1m0s\u001b[0m 27ms/step - accuracy: 0.8333 - loss: 0.4602 - val_accuracy: 0.0000e+00 - val_loss: 1.0149\n",
      "Epoch 39/50\n",
      "\u001b[1m4/4\u001b[0m \u001b[32m━━━━━━━━━━━━━━━━━━━━\u001b[0m\u001b[37m\u001b[0m \u001b[1m0s\u001b[0m 27ms/step - accuracy: 0.8333 - loss: 0.4712 - val_accuracy: 0.0000e+00 - val_loss: 1.0194\n",
      "Epoch 40/50\n",
      "\u001b[1m4/4\u001b[0m \u001b[32m━━━━━━━━━━━━━━━━━━━━\u001b[0m\u001b[37m\u001b[0m \u001b[1m0s\u001b[0m 24ms/step - accuracy: 0.7333 - loss: 0.5399 - val_accuracy: 0.0000e+00 - val_loss: 1.0217\n",
      "Epoch 41/50\n",
      "\u001b[1m4/4\u001b[0m \u001b[32m━━━━━━━━━━━━━━━━━━━━\u001b[0m\u001b[37m\u001b[0m \u001b[1m0s\u001b[0m 23ms/step - accuracy: 0.8333 - loss: 0.4871 - val_accuracy: 0.0000e+00 - val_loss: 1.0270\n",
      "Epoch 42/50\n",
      "\u001b[1m4/4\u001b[0m \u001b[32m━━━━━━━━━━━━━━━━━━━━\u001b[0m\u001b[37m\u001b[0m \u001b[1m0s\u001b[0m 24ms/step - accuracy: 0.8333 - loss: 0.4901 - val_accuracy: 0.0000e+00 - val_loss: 1.0324\n",
      "Epoch 43/50\n",
      "\u001b[1m4/4\u001b[0m \u001b[32m━━━━━━━━━━━━━━━━━━━━\u001b[0m\u001b[37m\u001b[0m \u001b[1m0s\u001b[0m 26ms/step - accuracy: 0.9000 - loss: 0.4298 - val_accuracy: 0.0000e+00 - val_loss: 1.0403\n",
      "Epoch 44/50\n",
      "\u001b[1m4/4\u001b[0m \u001b[32m━━━━━━━━━━━━━━━━━━━━\u001b[0m\u001b[37m\u001b[0m \u001b[1m0s\u001b[0m 23ms/step - accuracy: 0.9000 - loss: 0.4512 - val_accuracy: 0.0000e+00 - val_loss: 1.0472\n",
      "Epoch 45/50\n",
      "\u001b[1m4/4\u001b[0m \u001b[32m━━━━━━━━━━━━━━━━━━━━\u001b[0m\u001b[37m\u001b[0m \u001b[1m0s\u001b[0m 25ms/step - accuracy: 0.8333 - loss: 0.4991 - val_accuracy: 0.0000e+00 - val_loss: 1.0505\n",
      "Epoch 46/50\n",
      "\u001b[1m4/4\u001b[0m \u001b[32m━━━━━━━━━━━━━━━━━━━━\u001b[0m\u001b[37m\u001b[0m \u001b[1m0s\u001b[0m 25ms/step - accuracy: 0.8333 - loss: 0.4572 - val_accuracy: 0.0000e+00 - val_loss: 1.0542\n",
      "Epoch 47/50\n",
      "\u001b[1m4/4\u001b[0m \u001b[32m━━━━━━━━━━━━━━━━━━━━\u001b[0m\u001b[37m\u001b[0m \u001b[1m0s\u001b[0m 23ms/step - accuracy: 0.8333 - loss: 0.4785 - val_accuracy: 0.0000e+00 - val_loss: 1.0568\n",
      "Epoch 48/50\n",
      "\u001b[1m4/4\u001b[0m \u001b[32m━━━━━━━━━━━━━━━━━━━━\u001b[0m\u001b[37m\u001b[0m \u001b[1m0s\u001b[0m 25ms/step - accuracy: 0.7333 - loss: 0.5381 - val_accuracy: 0.0000e+00 - val_loss: 1.0570\n",
      "Epoch 49/50\n",
      "\u001b[1m4/4\u001b[0m \u001b[32m━━━━━━━━━━━━━━━━━━━━\u001b[0m\u001b[37m\u001b[0m \u001b[1m0s\u001b[0m 24ms/step - accuracy: 0.5333 - loss: 0.7182 - val_accuracy: 0.0000e+00 - val_loss: 1.0567\n",
      "Epoch 50/50\n",
      "\u001b[1m4/4\u001b[0m \u001b[32m━━━━━━━━━━━━━━━━━━━━\u001b[0m\u001b[37m\u001b[0m \u001b[1m0s\u001b[0m 26ms/step - accuracy: 0.5333 - loss: 0.7657 - val_accuracy: 0.0000e+00 - val_loss: 1.0565\n"
     ]
    }
   ],
   "source": [
    "epochs = 50\n",
    "history = lstm.fit(features_train, labels_train, epochs = epochs, batch_size = 1,\n",
    "                           shuffle = True, validation_split = 0.1)\n",
    "\n",
    "lstm.save_weights('model3_saved.weights.h5')"
   ]
  },
  {
   "cell_type": "code",
   "execution_count": 213,
   "metadata": {},
   "outputs": [
    {
     "name": "stdout",
     "output_type": "stream",
     "text": [
      "\u001b[1m1/1\u001b[0m \u001b[32m━━━━━━━━━━━━━━━━━━━━\u001b[0m\u001b[37m\u001b[0m \u001b[1m7s\u001b[0m 7s/step - accuracy: 0.0000e+00 - loss: 2.8189\n"
     ]
    },
    {
     "data": {
      "text/plain": [
       "[2.818850517272949, 0.0]"
      ]
     },
     "execution_count": 213,
     "metadata": {},
     "output_type": "execute_result"
    }
   ],
   "source": [
    "lstm.evaluate(features_test, labels_test)"
   ]
  },
  {
   "cell_type": "code",
   "execution_count": 22,
   "metadata": {},
   "outputs": [],
   "source": [
    "lstm.load_weights(f'model2_saved.weights.h5')"
   ]
  },
  {
   "cell_type": "code",
   "execution_count": 214,
   "metadata": {},
   "outputs": [],
   "source": [
    "conditions = np.unique(conditions)"
   ]
  },
  {
   "cell_type": "code",
   "execution_count": 215,
   "metadata": {},
   "outputs": [],
   "source": [
    "import cv2\n",
    "from collections import deque\n",
    "import mediapipe as mp\n",
    "\n",
    "mp_holistic = mp.solutions.holistic\n",
    "mp_drawing = mp.solutions.drawing_utils\n",
    "def predict_action(seq_length):\n",
    "\n",
    "    cap = cv2.VideoCapture(0)\n",
    "    with mp_holistic.Holistic(min_detection_confidence=0.5, min_tracking_confidence=0.5) as holistic:\n",
    "\n",
    "        frames_queue = deque(maxlen = seq_length)\n",
    "\n",
    "        predicted_action = ''\n",
    "\n",
    "        while cap.isOpened():\n",
    "            ret, frame = cap.read()\n",
    "\n",
    "            if not ret:\n",
    "                break\n",
    "            \n",
    "            image = cv2.cvtColor(frame, cv2.COLOR_BGR2RGB)\n",
    "            image.flags.writeable = False\n",
    "\n",
    "            results_from_video = holistic.process(image)\n",
    "            image.flags.writeable = True\n",
    "\n",
    "            mp_drawing.draw_landmarks(image, results_from_video.pose_landmarks, mp_holistic.POSE_CONNECTIONS,\n",
    "                                      mp_drawing.DrawingSpec(color=(80,110,10), thickness=2, circle_radius=2),\n",
    "                                      mp_drawing.DrawingSpec(color=(80,256,121), thickness=2, circle_radius=4))\n",
    "            \n",
    "            image = cv2.cvtColor(image, cv2.COLOR_RGB2BGR)\n",
    "            keypoints = []\n",
    "            if results_from_video.pose_landmarks:\n",
    "                for res in results_from_video.pose_landmarks.landmark:\n",
    "                    keypoints.append([res.x, res.y, res.z])\n",
    "            else:\n",
    "                    keypoints = np.zeros(33*3)\n",
    "            keypoints = np.array(keypoints).flatten()\n",
    "            keypoints = np.reshape(keypoints, (33, 3))\n",
    "            keypoints = normalize(keypoints)\n",
    "\n",
    "            print(keypoints)\n",
    "            frames_queue.append(keypoints)\n",
    "            print(np.array(frames_queue).shape)\n",
    "            if len(frames_queue) == seq_length:\n",
    "\n",
    "                predicted_labels_prob = lstm.predict(np.expand_dims(frames_queue, axis = 0))[0]\n",
    "\n",
    "                predicted_label = np.argmax(predicted_labels_prob)\n",
    "\n",
    "                predicted_action = conditions[predicted_label]\n",
    "\n",
    "            cv2.putText(image, predicted_action, (10,100), cv2.FONT_HERSHEY_COMPLEX, 2, (255, 0, 0), 2)\n",
    "\n",
    "            cv2.imshow(\"Example\", image)\n",
    "\n",
    "            if cv2.waitKey(10) & 0xFF == ord('q'):\n",
    "                break\n",
    "\n",
    "        cap.release()\n",
    "        cv2.destroyAllWindows()"
   ]
  },
  {
   "cell_type": "code",
   "execution_count": null,
   "metadata": {},
   "outputs": [],
   "source": [
    "predict_action(69)"
   ]
  },
  {
   "cell_type": "code",
   "execution_count": 50,
   "metadata": {},
   "outputs": [],
   "source": [
    "cv2.destroyAllWindows()"
   ]
  },
  {
   "cell_type": "code",
   "execution_count": 58,
   "metadata": {},
   "outputs": [
    {
     "data": {
      "text/plain": [
       "(1, 69, 33, 3)"
      ]
     },
     "execution_count": 58,
     "metadata": {},
     "output_type": "execute_result"
    }
   ],
   "source": [
    "import numpy as np\n",
    "test_data = np.expand_dims(np.random.rand(69, 33, 3), axis=0) # Adjust as needed\n",
    "test_data.shape"
   ]
  }
 ],
 "metadata": {
  "kernelspec": {
   "display_name": "Python 3",
   "language": "python",
   "name": "python3"
  },
  "language_info": {
   "codemirror_mode": {
    "name": "ipython",
    "version": 3
   },
   "file_extension": ".py",
   "mimetype": "text/x-python",
   "name": "python",
   "nbconvert_exporter": "python",
   "pygments_lexer": "ipython3",
   "version": "3.11.3"
  }
 },
 "nbformat": 4,
 "nbformat_minor": 2
}
